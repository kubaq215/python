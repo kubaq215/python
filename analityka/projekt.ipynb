{
 "cells": [
  {
   "cell_type": "code",
   "execution_count": 20,
   "metadata": {},
   "outputs": [],
   "source": [
    "import pandas as pd\n",
    "import numpy as np\n",
    "import matplotlib.pyplot as plt\n",
    "from sklearn.model_selection import train_test_split"
   ]
  },
  {
   "cell_type": "code",
   "execution_count": 3,
   "metadata": {},
   "outputs": [],
   "source": [
    "adelaide_data = pd.read_csv('Adelaide_Data.csv', header=None)\n",
    "perth_data = pd.read_csv('Perth_Data.csv', header=None)\n",
    "sydney_data = pd.read_csv('Sydney_Data.csv', header=None)\n",
    "tasmania_data = pd.read_csv('Tasmania_Data.csv', header=None)"
   ]
  },
  {
   "cell_type": "code",
   "execution_count": 4,
   "metadata": {},
   "outputs": [
    {
     "data": {
      "text/html": [
       "<div>\n",
       "<style scoped>\n",
       "    .dataframe tbody tr th:only-of-type {\n",
       "        vertical-align: middle;\n",
       "    }\n",
       "\n",
       "    .dataframe tbody tr th {\n",
       "        vertical-align: top;\n",
       "    }\n",
       "\n",
       "    .dataframe thead th {\n",
       "        text-align: right;\n",
       "    }\n",
       "</style>\n",
       "<table border=\"1\" class=\"dataframe\">\n",
       "  <thead>\n",
       "    <tr style=\"text-align: right;\">\n",
       "      <th></th>\n",
       "      <th>0</th>\n",
       "      <th>1</th>\n",
       "      <th>2</th>\n",
       "      <th>3</th>\n",
       "      <th>4</th>\n",
       "      <th>5</th>\n",
       "      <th>6</th>\n",
       "      <th>7</th>\n",
       "      <th>8</th>\n",
       "      <th>9</th>\n",
       "      <th>...</th>\n",
       "      <th>39</th>\n",
       "      <th>40</th>\n",
       "      <th>41</th>\n",
       "      <th>42</th>\n",
       "      <th>43</th>\n",
       "      <th>44</th>\n",
       "      <th>45</th>\n",
       "      <th>46</th>\n",
       "      <th>47</th>\n",
       "      <th>48</th>\n",
       "    </tr>\n",
       "  </thead>\n",
       "  <tbody>\n",
       "    <tr>\n",
       "      <th>0</th>\n",
       "      <td>316.5855</td>\n",
       "      <td>223.9277</td>\n",
       "      <td>182.3434</td>\n",
       "      <td>551.5497</td>\n",
       "      <td>7.8641</td>\n",
       "      <td>243.1339</td>\n",
       "      <td>361.0877</td>\n",
       "      <td>115.9284</td>\n",
       "      <td>78.6087</td>\n",
       "      <td>468.3799</td>\n",
       "      <td>...</td>\n",
       "      <td>82322.0277</td>\n",
       "      <td>98069.1011</td>\n",
       "      <td>86578.6330</td>\n",
       "      <td>93016.4133</td>\n",
       "      <td>63145.1829</td>\n",
       "      <td>98353.1952</td>\n",
       "      <td>80225.1390</td>\n",
       "      <td>98447.2846</td>\n",
       "      <td>97570.2225</td>\n",
       "      <td>1370374.145</td>\n",
       "    </tr>\n",
       "    <tr>\n",
       "      <th>1</th>\n",
       "      <td>530.3136</td>\n",
       "      <td>68.7031</td>\n",
       "      <td>31.5983</td>\n",
       "      <td>175.2582</td>\n",
       "      <td>516.1441</td>\n",
       "      <td>63.4652</td>\n",
       "      <td>67.0954</td>\n",
       "      <td>369.4486</td>\n",
       "      <td>14.0930</td>\n",
       "      <td>375.4462</td>\n",
       "      <td>...</td>\n",
       "      <td>83920.1033</td>\n",
       "      <td>80968.0044</td>\n",
       "      <td>87108.1328</td>\n",
       "      <td>68065.1856</td>\n",
       "      <td>99061.3812</td>\n",
       "      <td>77549.1426</td>\n",
       "      <td>99013.1628</td>\n",
       "      <td>78234.4337</td>\n",
       "      <td>84633.6493</td>\n",
       "      <td>1340929.765</td>\n",
       "    </tr>\n",
       "    <tr>\n",
       "      <th>2</th>\n",
       "      <td>27.3967</td>\n",
       "      <td>399.0488</td>\n",
       "      <td>565.6854</td>\n",
       "      <td>394.0466</td>\n",
       "      <td>120.2245</td>\n",
       "      <td>558.1293</td>\n",
       "      <td>546.4520</td>\n",
       "      <td>27.3256</td>\n",
       "      <td>314.1051</td>\n",
       "      <td>235.9476</td>\n",
       "      <td>...</td>\n",
       "      <td>97358.7395</td>\n",
       "      <td>93437.7170</td>\n",
       "      <td>69940.2554</td>\n",
       "      <td>92864.1192</td>\n",
       "      <td>60887.8095</td>\n",
       "      <td>72306.6556</td>\n",
       "      <td>81151.1515</td>\n",
       "      <td>83030.9726</td>\n",
       "      <td>94779.6131</td>\n",
       "      <td>1352031.511</td>\n",
       "    </tr>\n",
       "    <tr>\n",
       "      <th>3</th>\n",
       "      <td>346.1526</td>\n",
       "      <td>59.6375</td>\n",
       "      <td>226.2742</td>\n",
       "      <td>280.9095</td>\n",
       "      <td>402.2161</td>\n",
       "      <td>218.7181</td>\n",
       "      <td>207.0407</td>\n",
       "      <td>339.5676</td>\n",
       "      <td>0.0000</td>\n",
       "      <td>0.0000</td>\n",
       "      <td>...</td>\n",
       "      <td>80399.3841</td>\n",
       "      <td>89349.6141</td>\n",
       "      <td>85048.3860</td>\n",
       "      <td>70038.2271</td>\n",
       "      <td>92797.3569</td>\n",
       "      <td>97653.8121</td>\n",
       "      <td>74903.3740</td>\n",
       "      <td>71690.6549</td>\n",
       "      <td>96220.4768</td>\n",
       "      <td>1396754.375</td>\n",
       "    </tr>\n",
       "    <tr>\n",
       "      <th>4</th>\n",
       "      <td>317.9144</td>\n",
       "      <td>551.8542</td>\n",
       "      <td>335.4745</td>\n",
       "      <td>40.0240</td>\n",
       "      <td>316.6285</td>\n",
       "      <td>365.6434</td>\n",
       "      <td>416.3060</td>\n",
       "      <td>562.1028</td>\n",
       "      <td>211.3577</td>\n",
       "      <td>143.1255</td>\n",
       "      <td>...</td>\n",
       "      <td>97088.1761</td>\n",
       "      <td>81187.3982</td>\n",
       "      <td>63591.6729</td>\n",
       "      <td>92418.1977</td>\n",
       "      <td>82454.8256</td>\n",
       "      <td>97091.7749</td>\n",
       "      <td>85937.5437</td>\n",
       "      <td>66823.1572</td>\n",
       "      <td>93683.0996</td>\n",
       "      <td>1355708.577</td>\n",
       "    </tr>\n",
       "  </tbody>\n",
       "</table>\n",
       "<p>5 rows × 49 columns</p>\n",
       "</div>"
      ],
      "text/plain": [
       "         0         1         2         3         4         5         6   \\\n",
       "0  316.5855  223.9277  182.3434  551.5497    7.8641  243.1339  361.0877   \n",
       "1  530.3136   68.7031   31.5983  175.2582  516.1441   63.4652   67.0954   \n",
       "2   27.3967  399.0488  565.6854  394.0466  120.2245  558.1293  546.4520   \n",
       "3  346.1526   59.6375  226.2742  280.9095  402.2161  218.7181  207.0407   \n",
       "4  317.9144  551.8542  335.4745   40.0240  316.6285  365.6434  416.3060   \n",
       "\n",
       "         7         8         9   ...          39          40          41  \\\n",
       "0  115.9284   78.6087  468.3799  ...  82322.0277  98069.1011  86578.6330   \n",
       "1  369.4486   14.0930  375.4462  ...  83920.1033  80968.0044  87108.1328   \n",
       "2   27.3256  314.1051  235.9476  ...  97358.7395  93437.7170  69940.2554   \n",
       "3  339.5676    0.0000    0.0000  ...  80399.3841  89349.6141  85048.3860   \n",
       "4  562.1028  211.3577  143.1255  ...  97088.1761  81187.3982  63591.6729   \n",
       "\n",
       "           42          43          44          45          46          47  \\\n",
       "0  93016.4133  63145.1829  98353.1952  80225.1390  98447.2846  97570.2225   \n",
       "1  68065.1856  99061.3812  77549.1426  99013.1628  78234.4337  84633.6493   \n",
       "2  92864.1192  60887.8095  72306.6556  81151.1515  83030.9726  94779.6131   \n",
       "3  70038.2271  92797.3569  97653.8121  74903.3740  71690.6549  96220.4768   \n",
       "4  92418.1977  82454.8256  97091.7749  85937.5437  66823.1572  93683.0996   \n",
       "\n",
       "            48  \n",
       "0  1370374.145  \n",
       "1  1340929.765  \n",
       "2  1352031.511  \n",
       "3  1396754.375  \n",
       "4  1355708.577  \n",
       "\n",
       "[5 rows x 49 columns]"
      ]
     },
     "execution_count": 4,
     "metadata": {},
     "output_type": "execute_result"
    }
   ],
   "source": [
    "adelaide_data.head()"
   ]
  },
  {
   "cell_type": "code",
   "execution_count": 5,
   "metadata": {},
   "outputs": [
    {
     "data": {
      "image/png": "[encoded data removed]",
      "text/plain": [
       "<Figure size 288x288 with 1 Axes>"
      ]
     },
     "metadata": {},
     "output_type": "display_data"
    }
   ],
   "source": [
    "corr_mat = adelaide_data.corr()\n",
    "from matplotlib.colors import ListedColormap\n",
    "\n",
    "cmap = ListedColormap(['k', 'w','r'])\n",
    "plt.matshow(corr_mat, cmap=cmap)\n",
    "plt.show()"
   ]
  },
  {
   "cell_type": "code",
   "execution_count": 6,
   "metadata": {},
   "outputs": [
    {
     "data": {
      "text/plain": [
       "0.0001000002957880497"
      ]
     },
     "execution_count": 6,
     "metadata": {},
     "output_type": "execute_result"
    }
   ],
   "source": [
    "adelaide_data[48][0] - sum(adelaide_data[i][0] for i in range(32, 48))"
   ]
  },
  {
   "cell_type": "code",
   "execution_count": 7,
   "metadata": {},
   "outputs": [],
   "source": [
    "col = [i for i in range(32, 48)]\n",
    "adelaide_data_dropped = adelaide_data.drop(columns=col)"
   ]
  },
  {
   "cell_type": "code",
   "execution_count": 21,
   "metadata": {},
   "outputs": [],
   "source": [
    "X_train, X_test, y_train, y_test = train_test_split(adelaide_data_dropped.loc[:,:31], adelaide_data_dropped.loc[:,48], test_size=0.20, random_state=42)"
   ]
  },
  {
   "cell_type": "code",
   "execution_count": 24,
   "metadata": {},
   "outputs": [],
   "source": [
    "from sklearn.linear_model import LinearRegression\n",
    "from sklearn.model_selection import train_test_split\n",
    "from sklearn.metrics import mean_squared_error\n",
    "from sklearn.preprocessing import PolynomialFeatures "
   ]
  },
  {
   "cell_type": "code",
   "execution_count": 25,
   "metadata": {},
   "outputs": [
    {
     "data": {
      "text/plain": [
       "LinearRegression()"
      ]
     },
     "execution_count": 25,
     "metadata": {},
     "output_type": "execute_result"
    }
   ],
   "source": [
    "model = LinearRegression() \n",
    "model.fit(X_train, y_train)\n"
   ]
  },
  {
   "cell_type": "code",
   "execution_count": 26,
   "metadata": {},
   "outputs": [
    {
     "data": {
      "text/plain": [
       "array([1369479.01019569, 1394425.06128514, 1373836.8435784 , ...,\n",
       "       1398519.23688838, 1438977.25281194, 1414340.3063915 ])"
      ]
     },
     "execution_count": 26,
     "metadata": {},
     "output_type": "execute_result"
    }
   ],
   "source": [
    "model.predict(X_test)"
   ]
  },
  {
   "cell_type": "code",
   "execution_count": 34,
   "metadata": {},
   "outputs": [
    {
     "name": "stdout",
     "output_type": "stream",
     "text": [
      "2612461205.179092\n",
      "50617.531871197614\n"
     ]
    }
   ],
   "source": [
    "\n",
    "print(mean_squared_error(y_test, model.predict(X_test)))\n",
    "print(np.sqrt(mean_squared_error(y_train, model.predict(X_train))))\n",
    "\n",
    "# y_pred = model.predict(X_test)\n",
    "# print(\"Mean squared error equals: {0}\".format(mean_squared_error(y_pred, y_test)))"
   ]
  },
  {
   "cell_type": "code",
   "execution_count": 32,
   "metadata": {},
   "outputs": [],
   "source": [
    "X = adelaide_data_dropped.loc[:,:31]"
   ]
  },
  {
   "cell_type": "code",
   "execution_count": 33,
   "metadata": {},
   "outputs": [
    {
     "data": {
      "text/plain": [
       "<AxesSubplot:>"
      ]
     },
     "execution_count": 33,
     "metadata": {},
     "output_type": "execute_result"
    },
    {
     "data": {
      "image/png": "[encoded data removed]",
      "text/plain": [
       "<Figure size 432x288 with 1 Axes>"
      ]
     },
     "metadata": {},
     "output_type": "display_data"
    }
   ],
   "source": [
    "X.boxplot()"
   ]
  },
  {
   "cell_type": "code",
   "execution_count": null,
   "metadata": {},
   "outputs": [],
   "source": []
  }
 ],
 "metadata": {
  "kernelspec": {
   "display_name": "Python 3.6.9 64-bit",
   "language": "python",
   "name": "python3"
  },
  "language_info": {
   "codemirror_mode": {
    "name": "ipython",
    "version": 3
   },
   "file_extension": ".py",
   "mimetype": "text/x-python",
   "name": "python",
   "nbconvert_exporter": "python",
   "pygments_lexer": "ipython3",
   "version": "3.6.9"
  },
  "orig_nbformat": 4,
  "vscode": {
   "interpreter": {
    "hash": "31f2aee4e71d21fbe5cf8b01ff0e069b9275f58929596ceb00d14d90e3e16cd6"
   }
  }
 },
 "nbformat": 4,
 "nbformat_minor": 2
}
